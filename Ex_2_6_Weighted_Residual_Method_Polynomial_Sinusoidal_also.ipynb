{
  "nbformat": 4,
  "nbformat_minor": 0,
  "metadata": {
    "colab": {
      "name": "Ex.2.6_Weighted_Residual_Method_Polynomial_Sinusoidal_also.ipynb",
      "provenance": [],
      "collapsed_sections": []
    },
    "kernelspec": {
      "name": "python3",
      "display_name": "Python 3"
    },
    "language_info": {
      "name": "python"
    }
  },
  "cells": [
    {
      "cell_type": "code",
      "metadata": {
        "id": "0VVWH2-bk3w7"
      },
      "source": [
        "from sympy import *\n",
        "from collections import OrderedDict\n",
        "from sympy import solve_poly_system\n",
        "\n",
        "def get_solved_trial_solution(diff_eq, u_cap, coefficients, bcs):\n",
        "    u_cap_substituted, coeff_set = substitute_bcs(u_cap, coefficients, bcs)\n",
        "\n",
        "    coefficients_as_symbols = [symbols(a) for a in coefficients]\n",
        "    remaining_coefficients = coeff_set.copy()\n",
        "\n",
        "    print(\"Remaining coefficient(s): \", remaining_coefficients)\n",
        "\n",
        "    #equation_components = list(diff_eq.atoms())\n",
        "    equation_components = diff_eq.free_symbols\n",
        "\n",
        "    equation_substituted = diff_eq.copy()\n",
        "\n",
        "    for equation_component in equation_components:\n",
        "        if 'D' in equation_component.name:\n",
        "            equation_substituted = equation_substituted.subs(equation_component, differentiate(equation_component.name, u_cap_substituted))\n",
        "    domain_residual = equation_substituted\n",
        "    print(\"coeff_sets: \", coeff_set)\n",
        "\n",
        "    #domain_residual = diff_eq.subs('D2u', differentiate('D2u', u_cap_substituted)) # If other orders of u differentiation is there in equation, substitue for each of them\n",
        "    # Find a way to identify each of these differiations of u without having to explicitly specify them\n",
        "    display(\"Domain Residual:\")\n",
        "    display(domain_residual)\n",
        "    Rd = domain_residual.lhs\n",
        "\n",
        "    #print(\"U cap:\")\n",
        "    #display(u_cap)\n",
        "    \n",
        "    #print(\"U cap as terms:\")\n",
        "    #display(u_cap.as_terms())\n",
        "    #display(u_cap.as_two_terms())\n",
        "    \"\"\"\n",
        "    no_of_terms_in_u_cap = len(u_cap.as_terms()[0])\n",
        "    print(\"Number of terms in u_cap: \", no_of_terms_in_u_cap)\n",
        "\n",
        "    u_cap_terms = []\n",
        "\n",
        "    #Loop through each term in u_cap, divide by respective coefficient:\n",
        "\n",
        "    for n in range(no_of_terms_in_u_cap):\n",
        "        current_term = u_cap.as_terms()[0][n][0]\n",
        "        for coefficient in coefficients:\n",
        "            if symbols(coefficient) in current_term.free_symbols:\n",
        "                current_term = sympify(current_term / symbols(coefficient))\n",
        "                #print(\"Appending term: \", current_term)\n",
        "        u_cap_terms.append(current_term)\n",
        "\n",
        "    \"\"\"\n",
        "    print(\"U cap substituted:\")\n",
        "    display(u_cap_substituted)\n",
        "    wt_residual_equations = []\n",
        "\n",
        "    for remaining_coefficient in remaining_coefficients:\n",
        "        weighted_residual_term = u_cap_substituted.coeff(remaining_coefficient)\n",
        "        \n",
        "        term_to_integrate = sympify(Rd * weighted_residual_term)\n",
        "        wt_residual_equation = integrate(term_to_integrate, ('x', 0, symbols('L')))\n",
        "        print(\"current weighted residual equation: \")\n",
        "        display(wt_residual_equation)\n",
        "        wt_residual_equations.append(wt_residual_equation)\n",
        "    display(wt_residual_equations)\n",
        "    final_coefficients = solve(wt_residual_equations, *coefficients_as_symbols) #What is the difference between solve_poly_system and solve?\n",
        "    print(final_coefficients)\n",
        "\n",
        "    \"\"\"\n",
        "\n",
        "    coefficients_as_symbols = [symbols(coefficient) for coefficient in coefficients] # Since solve doesnt perform type casting on string\n",
        "\n",
        "    # Looping through each term in u_cap again\n",
        "    #Generate wt_residual_equation by multiplying each of these terms with Rd\n",
        "    #Append to list of wt_residual_equations\n",
        "\n",
        "    #Galerkin's Weighted residual Based Solving\n",
        "\n",
        "    for u_cap_term in  u_cap_terms:\n",
        "        term_to_integrate = sympify(Rd * u_cap_term)\n",
        "        wt_residual_equation = integrate(term_to_integrate, ('x', 0, symbols('L')))\n",
        "        print(\"current weighted residual equation: \")\n",
        "        display(wt_residual_equation)\n",
        "        wt_residual_equations.append(wt_residual_equation)\n",
        "    display(wt_residual_equations)\n",
        "    final_coefficients = solve(wt_residual_equations, *coefficients_as_symbols) #What is the difference between solve_poly_system and solve?\n",
        "    print(final_coefficients)\n",
        "\n",
        "    \"\"\"\n",
        "\n",
        "    for coefficient in remaining_coefficients:\n",
        "        u_cap_substituted = u_cap_substituted.subs(coefficient, final_coefficients[coefficient])\n",
        "    u_cap_answer = u_cap_substituted\n",
        "\n",
        "    display(u_cap_answer)\n",
        "    return u_cap_answer\n"
      ],
      "execution_count": 140,
      "outputs": []
    },
    {
      "cell_type": "code",
      "metadata": {
        "id": "XGlhHOOupX5W"
      },
      "source": [
        "import numpy as np\n",
        "import math\n",
        "def u_cap_generate():\n",
        "    x = symbols('x')\n",
        "    L = symbols('L')\n",
        "\n",
        "    sinpixbyL = sin(pi*x/L)\n",
        "\n",
        "    display(sympify(symbols('c1') * sinpixbyL))\n",
        "    return sympify(symbols('c1') * sinpixbyL), ['c1']\n",
        "\n",
        "def generate_diff_eq():\n",
        "    x = symbols('x')\n",
        "    v = symbols('v')\n",
        "    D4v = symbols('D4v')\n",
        "    lhs = symbols('E') * symbols('I') * D4v - symbols('q0')\n",
        "    diff_eq = Eq(lhs, 0)\n",
        "    display(diff_eq)\n",
        "    return diff_eq"
      ],
      "execution_count": 141,
      "outputs": []
    },
    {
      "cell_type": "code",
      "metadata": {
        "id": "Shy2Tq83pbsi"
      },
      "source": [
        "def substitute_bcs(u_cap, coefficients, bcs):\n",
        "    equations_to_solve = []\n",
        "    for bc in bcs:\n",
        "        variables = list(bc.keys())\n",
        "        print(variables)\n",
        "        if 'D' in variables[1]:             # It is ensured that each entry of the bcs list is an ordered dictionary where the first key is 'x' and the second is either 'v' or a differentiated version of 'v'\n",
        "            print(\"yip condition, das heisst es gibt differential term in this boundary condition\")\n",
        "            differentiated_u = differentiate(variables[1], u_cap)\n",
        "            equation_to_solve = Eq(differentiated_u.subs({'x':bc['x']}), bc[variables[1]])\n",
        "            #display(equation_to_solve)\n",
        "            equations_to_solve.append(equation_to_solve)\n",
        "            #equation_to_solve = Eq(u_cap.subs())\n",
        "        else:\n",
        "            print(\"yelse condition, das heisst es gibt kein(e?n?) differential term in this boundary condition\")\n",
        "            equation_to_solve = Eq(u_cap.subs({'x':bc['x']}), bc[variables[1]])\n",
        "            #display(equation_to_solve)\n",
        "            equations_to_solve.append(equation_to_solve)\n",
        "    print(\"Equations to solve:\")\n",
        "    display(equations_to_solve)\n",
        "\n",
        "    solution = {}\n",
        "\n",
        "    index = -1\n",
        "\n",
        "    while(len(solution.keys()) < len(bcs)):\n",
        "        index+=1\n",
        "        print(\"Index = \", index)\n",
        "        coeff_set = [symbols(coeff) for coeff in coefficients]\n",
        "        print(\"coeff set: \", coeff_set)\n",
        "        coeff_to_solve_for = coeff_set.pop(index) # So that we can have value taking and remove take place together\n",
        "        #print(\"coeff_to_solve_for :\", coeff_to_solve_for)\n",
        "        equations_to_solve = list(set(equations_to_solve))  # Taking only unique equations, since substitution of different bcs can potentially\n",
        "        if True in equations_to_solve:\n",
        "            equations_to_solve.remove(True)\n",
        "            print(\"After removing, equations are: \", equations_to_solve)\n",
        "        if len(equations_to_solve) > 0:\n",
        "            print(\"Now solving the equations: \", equations_to_solve)\n",
        "            solution = solve(equations_to_solve, *coeff_set)   # Solve_poly_system function is not type-casting. We need to explicitly provide symbol objects as arguments. Otherwise, \"solve()\" is a better function to use, since it provides dictionaries as output, not a list\n",
        "        # The fact that c0, c1, etc are to be provided as arguments, needs to be taken care of.\n",
        "        #For example the u_cap function could return a list whose first item is the expression and next is a list of coefficients. perhaps a third which is a list of variables, for zukunftige Nutzung.\n",
        "            print(\"Solution:\", solution)\n",
        "            #Now, coeff_set seems to have too many items. Pop out the coefficients that have already been solved for, as available in the keys of solution\n",
        "        else:\n",
        "            coeff_set.append(coeff_to_solve_for)\n",
        "            break\n",
        "\n",
        "    coeff_set = list(set([symbols(coeff) for coeff in coefficients]) - set(solution.keys()))\n",
        "\n",
        "    print(\"solution: \", solution)\n",
        "    \n",
        "    print(\"coeff_set: \", coeff_set)\n",
        "    if solution:\n",
        "        substitution_dictionary = solution.copy()\n",
        "        print(\"subs dict\", substitution_dictionary)\n",
        "\n",
        "        display(solution)\n",
        "        u_cap_substituted = u_cap.subs(substitution_dictionary)\n",
        "        display(\"u_cap_substituted\", u_cap_substituted)\n",
        "    else:\n",
        "        u_cap_substituted = u_cap\n",
        "\n",
        "    return u_cap_substituted, coeff_set    # Need to check if the coefficients being returned are arbitrary, based on number of iterations, or consistent\n",
        "    \n",
        "def differentiate(Dexp, u_cap):\n",
        "    no_of_times = int(Dexp[1])    #Assuming single digit times differentiating. If more, you guys do it, I'm bored\n",
        "    print(no_of_times)\n",
        "    ans = diff(u_cap, 'x', no_of_times)\n",
        "    display(ans)\n",
        "    return ans\n",
        "    #return differentiated_u\n"
      ],
      "execution_count": 142,
      "outputs": []
    },
    {
      "cell_type": "code",
      "metadata": {
        "colab": {
          "base_uri": "https://localhost:8080/",
          "height": 793
        },
        "id": "Epjq33llpgCe",
        "outputId": "50255b26-a1f1-4742-fc78-986f9bfd0169"
      },
      "source": [
        "diff_eq = generate_diff_eq()\n",
        "u_cap, coefficients = u_cap_generate()\n",
        "\n",
        "bcs = [OrderedDict({'x':'0', 'v':0}), OrderedDict({'x':'L', 'v':0}), OrderedDict({'x':'0', 'D2v':0}), OrderedDict({'x':'L', 'D2v':0})]\n",
        "print(bcs)\n",
        "solution_answer = get_solved_trial_solution(diff_eq, u_cap, coefficients, bcs)"
      ],
      "execution_count": 143,
      "outputs": [
        {
          "output_type": "display_data",
          "data": {
            "text/latex": "$\\displaystyle D4v E I - q_{0} = 0$",
            "text/plain": [
              "Eq(D4v*E*I - q0, 0)"
            ]
          },
          "metadata": {}
        },
        {
          "output_type": "display_data",
          "data": {
            "text/latex": "$\\displaystyle c_{1} \\sin{\\left(\\frac{\\pi x}{L} \\right)}$",
            "text/plain": [
              "c1*sin(pi*x/L)"
            ]
          },
          "metadata": {}
        },
        {
          "output_type": "stream",
          "name": "stdout",
          "text": [
            "[OrderedDict([('x', '0'), ('v', 0)]), OrderedDict([('x', 'L'), ('v', 0)]), OrderedDict([('x', '0'), ('D2v', 0)]), OrderedDict([('x', 'L'), ('D2v', 0)])]\n",
            "['x', 'v']\n",
            "yelse condition, das heisst es gibt kein(e?n?) differential term in this boundary condition\n",
            "['x', 'v']\n",
            "yelse condition, das heisst es gibt kein(e?n?) differential term in this boundary condition\n",
            "['x', 'D2v']\n",
            "yip condition, das heisst es gibt differential term in this boundary condition\n",
            "2\n"
          ]
        },
        {
          "output_type": "display_data",
          "data": {
            "text/latex": "$\\displaystyle - \\frac{\\pi^{2} c_{1} \\sin{\\left(\\frac{\\pi x}{L} \\right)}}{L^{2}}$",
            "text/plain": [
              "-pi**2*c1*sin(pi*x/L)/L**2"
            ]
          },
          "metadata": {}
        },
        {
          "output_type": "stream",
          "name": "stdout",
          "text": [
            "['x', 'D2v']\n",
            "yip condition, das heisst es gibt differential term in this boundary condition\n",
            "2\n"
          ]
        },
        {
          "output_type": "display_data",
          "data": {
            "text/latex": "$\\displaystyle - \\frac{\\pi^{2} c_{1} \\sin{\\left(\\frac{\\pi x}{L} \\right)}}{L^{2}}$",
            "text/plain": [
              "-pi**2*c1*sin(pi*x/L)/L**2"
            ]
          },
          "metadata": {}
        },
        {
          "output_type": "stream",
          "name": "stdout",
          "text": [
            "Equations to solve:\n"
          ]
        },
        {
          "output_type": "display_data",
          "data": {
            "text/plain": [
              "[True, True, True, True]"
            ]
          },
          "metadata": {}
        },
        {
          "output_type": "stream",
          "name": "stdout",
          "text": [
            "Index =  0\n",
            "coeff set:  [c1]\n",
            "After removing, equations are:  []\n",
            "solution:  {}\n",
            "coeff_set:  [c1]\n",
            "Remaining coefficient(s):  [c1]\n",
            "4\n"
          ]
        },
        {
          "output_type": "display_data",
          "data": {
            "text/latex": "$\\displaystyle \\frac{\\pi^{4} c_{1} \\sin{\\left(\\frac{\\pi x}{L} \\right)}}{L^{4}}$",
            "text/plain": [
              "pi**4*c1*sin(pi*x/L)/L**4"
            ]
          },
          "metadata": {}
        },
        {
          "output_type": "stream",
          "name": "stdout",
          "text": [
            "coeff_sets:  [c1]\n"
          ]
        },
        {
          "output_type": "display_data",
          "data": {
            "application/vnd.google.colaboratory.intrinsic+json": {
              "type": "string"
            },
            "text/plain": [
              "'Domain Residual:'"
            ]
          },
          "metadata": {}
        },
        {
          "output_type": "display_data",
          "data": {
            "text/latex": "$\\displaystyle \\frac{\\pi^{4} E I c_{1} \\sin{\\left(\\frac{\\pi x}{L} \\right)}}{L^{4}} - q_{0} = 0$",
            "text/plain": [
              "Eq(pi**4*E*I*c1*sin(pi*x/L)/L**4 - q0, 0)"
            ]
          },
          "metadata": {}
        },
        {
          "output_type": "stream",
          "name": "stdout",
          "text": [
            "U cap substituted:\n"
          ]
        },
        {
          "output_type": "display_data",
          "data": {
            "text/latex": "$\\displaystyle c_{1} \\sin{\\left(\\frac{\\pi x}{L} \\right)}$",
            "text/plain": [
              "c1*sin(pi*x/L)"
            ]
          },
          "metadata": {}
        },
        {
          "output_type": "stream",
          "name": "stdout",
          "text": [
            "current weighted residual equation: \n"
          ]
        },
        {
          "output_type": "display_data",
          "data": {
            "text/latex": "$\\displaystyle \\frac{\\pi^{4} E I c_{1}}{2 L^{3}} - \\frac{2 L q_{0}}{\\pi}$",
            "text/plain": [
              "pi**4*E*I*c1/(2*L**3) - 2*L*q0/pi"
            ]
          },
          "metadata": {}
        },
        {
          "output_type": "display_data",
          "data": {
            "text/plain": [
              "[pi**4*E*I*c1/(2*L**3) - 2*L*q0/pi]"
            ]
          },
          "metadata": {}
        },
        {
          "output_type": "stream",
          "name": "stdout",
          "text": [
            "{c1: 4*L**4*q0/(pi**5*E*I)}\n"
          ]
        },
        {
          "output_type": "display_data",
          "data": {
            "text/latex": "$\\displaystyle \\frac{4 L^{4} q_{0} \\sin{\\left(\\frac{\\pi x}{L} \\right)}}{\\pi^{5} E I}$",
            "text/plain": [
              "4*L**4*q0*sin(pi*x/L)/(pi**5*E*I)"
            ]
          },
          "metadata": {}
        }
      ]
    },
    {
      "cell_type": "code",
      "metadata": {
        "colab": {
          "base_uri": "https://localhost:8080/",
          "height": 286
        },
        "id": "962ercidpgns",
        "outputId": "9f40bf1e-7b90-4e2c-cb38-99f5449e8a90"
      },
      "source": [
        "import matplotlib.pyplot as plt\n",
        "import numpy\n",
        "\n",
        "solution_answer = solution_answer.subs('A', 1)\n",
        "solution_answer = solution_answer.subs('E', 1)\n",
        "solution_answer = solution_answer.subs('a', 1)\n",
        "solution_answer = solution_answer.subs('L', 1)\n",
        "\n",
        "lam_v = lambdify('x', solution_answer, modules=[numpy])\n",
        "\n",
        "x_vals = numpy.linspace(0, 1, 10)\n",
        "y_vals = lam_v(x_vals)\n",
        "\n",
        "#print(x_vals)\n",
        "#print(y_vals)\n",
        "\n",
        "plt.plot(x_vals, y_vals)"
      ],
      "execution_count": 135,
      "outputs": [
        {
          "output_type": "execute_result",
          "data": {
            "text/plain": [
              "[<matplotlib.lines.Line2D at 0x7f783da35550>]"
            ]
          },
          "metadata": {},
          "execution_count": 135
        },
        {
          "output_type": "display_data",
          "data": {
            "image/png": "[encoded data removed]",
            "text/plain": [
              "<Figure size 432x288 with 1 Axes>"
            ]
          },
          "metadata": {
            "needs_background": "light"
          }
        }
      ]
    },
    {
      "cell_type": "code",
      "metadata": {
        "id": "Shy5kIKwyAPM"
      },
      "source": [
        ""
      ],
      "execution_count": null,
      "outputs": []
    }
  ]
}